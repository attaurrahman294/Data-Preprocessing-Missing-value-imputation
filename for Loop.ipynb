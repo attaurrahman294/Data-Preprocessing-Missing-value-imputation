{
 "cells": [
  {
   "cell_type": "code",
   "execution_count": 1,
   "metadata": {},
   "outputs": [],
   "source": [
    "a = [10,20,30,50,60]"
   ]
  },
  {
   "cell_type": "code",
   "execution_count": 2,
   "metadata": {},
   "outputs": [
    {
     "name": "stdout",
     "output_type": "stream",
     "text": [
      "10\n",
      "20\n",
      "30\n",
      "50\n",
      "60\n",
      "end of for :\n"
     ]
    }
   ],
   "source": [
    "for i in a:\n",
    "    print(i)\n",
    "print('end of for :')"
   ]
  },
  {
   "cell_type": "code",
   "execution_count": 3,
   "metadata": {},
   "outputs": [
    {
     "name": "stdout",
     "output_type": "stream",
     "text": [
      "10\n",
      "20\n",
      "30\n",
      "50\n",
      "60\n"
     ]
    }
   ],
   "source": [
    "# now acces arry using indexes\n",
    "for i in range(len(a)):\n",
    "    print(a[i])"
   ]
  },
  {
   "cell_type": "code",
   "execution_count": 4,
   "metadata": {},
   "outputs": [
    {
     "name": "stdout",
     "output_type": "stream",
     "text": [
      "0 10\n",
      "1 20\n",
      "2 30\n",
      "3 50\n",
      "4 60\n"
     ]
    }
   ],
   "source": [
    "# now acces arry using indexes and print value with index\n",
    "for i in range(len(a)):\n",
    "    print(i,a[i])"
   ]
  },
  {
   "cell_type": "code",
   "execution_count": 5,
   "metadata": {},
   "outputs": [
    {
     "name": "stdout",
     "output_type": "stream",
     "text": [
      "[(0, 10), (1, 20), (2, 30), (3, 50), (4, 60)]\n"
     ]
    }
   ],
   "source": [
    "print(list(enumerate(a)))"
   ]
  },
  {
   "cell_type": "markdown",
   "metadata": {},
   "source": [
    "# Factorial"
   ]
  },
  {
   "cell_type": "code",
   "execution_count": 6,
   "metadata": {},
   "outputs": [
    {
     "name": "stdout",
     "output_type": "stream",
     "text": [
      "Enter the number:3\n",
      "the factorail of  3 is  6\n"
     ]
    }
   ],
   "source": [
    "num = int(input('Enter the number:'))\n",
    "factorail = 1\n",
    "if(num<0):\n",
    "    print(\"Sorry factorial for nagetive numbers dos't exist\")\n",
    "elif(num==0):\n",
    "    print(\"factorail of zero is equal to 1\")\n",
    "else:\n",
    "    for i in range(1,num+1):\n",
    "        factorail = factorail*i\n",
    "    print('the factorail of ',num ,'is ',factorail)"
   ]
  },
  {
   "cell_type": "code",
   "execution_count": 7,
   "metadata": {},
   "outputs": [
    {
     "name": "stdout",
     "output_type": "stream",
     "text": [
      "5\n",
      "6\n",
      "7\n",
      "8\n",
      "9\n"
     ]
    }
   ],
   "source": [
    "for i in range(5,10):\n",
    "    print(i)"
   ]
  },
  {
   "cell_type": "code",
   "execution_count": 8,
   "metadata": {},
   "outputs": [
    {
     "name": "stdout",
     "output_type": "stream",
     "text": [
      "month 1 expense 12\n",
      "month 2 expense 34\n",
      "month 3 expense 56\n",
      "month 4 expense 78\n",
      "month 5 expense 54\n",
      "month 6 expense 23\n",
      "month 7 expense 45\n",
      "total expenses is 302\n"
     ]
    }
   ],
   "source": [
    "expenses = [12,34,56,78,54,23,45]\n",
    "totall = 0\n",
    "for i in range(len(expenses)):\n",
    "    expense = expenses[i]\n",
    "    print('month',i+1,'expense',expense)\n",
    "    totall = totall+expense\n",
    "print('total expenses is',totall)"
   ]
  },
  {
   "cell_type": "code",
   "execution_count": 9,
   "metadata": {},
   "outputs": [
    {
     "name": "stdout",
     "output_type": "stream",
     "text": [
      "key not found at sofa\n",
      "key not found at guset room\n",
      "key not found at gerage\n",
      "key not found at chair\n",
      "key not found at tabel\n"
     ]
    }
   ],
   "source": [
    "key_location = 'chair'\n",
    "locations = ['sofa','guset room','gerage','chair','tabel']\n",
    "for loc in locations:\n",
    "    if loc == locations:\n",
    "        print('key found at ',loc)\n",
    "    else:\n",
    "        print('key not found at',loc)"
   ]
  },
  {
   "cell_type": "code",
   "execution_count": 10,
   "metadata": {},
   "outputs": [
    {
     "name": "stdout",
     "output_type": "stream",
     "text": [
      "Key not found at: sofa\n",
      "Key not found at: garage\n",
      "Key found at: chair\n",
      "end\n"
     ]
    }
   ],
   "source": [
    "key_location=\"chair\"\n",
    "locations = [\"sofa\",\"garage\",\"chair\",\"table\",\"closet\"]\n",
    "for loc in locations:\n",
    "    if loc == key_location:\n",
    "        print (\"Key found at:\",loc)\n",
    "        break\n",
    "    else:\n",
    "        print (\"Key not found at:\",loc)\n",
    "print('end')"
   ]
  },
  {
   "cell_type": "code",
   "execution_count": 11,
   "metadata": {},
   "outputs": [
    {
     "name": "stdout",
     "output_type": "stream",
     "text": [
      "key is not found in : gurage\n",
      "key is not found in : space\n",
      "key is found in : chair\n"
     ]
    }
   ],
   "source": [
    "key_location = \"chair\"\n",
    "locations = [\"gurage\",'space','chair','table','tub']\n",
    "for loc in locations:\n",
    "    if loc==key_location:\n",
    "        print('key is found in :',loc)\n",
    "        break\n",
    "    else:\n",
    "        print('key is not found in :',loc)"
   ]
  },
  {
   "cell_type": "code",
   "execution_count": 12,
   "metadata": {},
   "outputs": [
    {
     "name": "stdout",
     "output_type": "stream",
     "text": [
      "1\n",
      "3\n",
      "5\n",
      "7\n",
      "9\n"
     ]
    }
   ],
   "source": [
    "for i in range(11):\n",
    "    #print(i)\n",
    "    #to print only odd bet 0-10\n",
    "    if i%2==1:\n",
    "        print(i)"
   ]
  },
  {
   "cell_type": "code",
   "execution_count": 13,
   "metadata": {},
   "outputs": [
    {
     "name": "stdout",
     "output_type": "stream",
     "text": [
      "1\n",
      "3\n",
      "5\n",
      "7\n",
      "9\n"
     ]
    }
   ],
   "source": [
    "for i in range(11):\n",
    "    #print(i)\n",
    "    #to print only odd bet 0-10\n",
    "    if i%2==0:\n",
    "        continue\n",
    "    print(i)"
   ]
  },
  {
   "cell_type": "code",
   "execution_count": 14,
   "metadata": {},
   "outputs": [
    {
     "name": "stdout",
     "output_type": "stream",
     "text": [
      "head are occure : 4 times\n"
     ]
    }
   ],
   "source": [
    "# Using for loop figure out how many times you got heads\n",
    "result = [\"heads\",\"tails\",\"tails\",\"heads\",\"tails\",\"heads\",\"heads\",\"tails\",\"tails\",\"tails\"]\n",
    "head = 0\n",
    "for i in result:\n",
    "    if i == \"heads\":\n",
    "        head = head+1\n",
    "    else:\n",
    "        continue\n",
    "print(\"head are occure :\",head,\"times\")\n",
    "        "
   ]
  },
  {
   "cell_type": "code",
   "execution_count": 15,
   "metadata": {},
   "outputs": [
    {
     "name": "stdout",
     "output_type": "stream",
     "text": [
      "squre root of even is 4\n",
      "squre root of even is 16\n",
      "squre root of even is 36\n",
      "squre root of even is 64\n"
     ]
    }
   ],
   "source": [
    "for i in range(1,10):\n",
    "    if i%2==0:\n",
    "        print('squre root of even is',i*i)\n",
    "    else:\n",
    "        continue"
   ]
  },
  {
   "cell_type": "code",
   "execution_count": 37,
   "metadata": {},
   "outputs": [
    {
     "name": "stdout",
     "output_type": "stream",
     "text": [
      "Enter the number:2100\n",
      "jan\n"
     ]
    }
   ],
   "source": [
    "expense_list = [2340, 2500, 2100, 3100, 2980]\n",
    "num = int(input('Enter the number:'))\n",
    "for i in range(len(expense_list)):\n",
    "    if num<=2340:\n",
    "        print('jan')\n",
    "        break\n",
    "    elif num>2340 and num<=2500:\n",
    "        print('feb')\n",
    "        break\n",
    "    elif num>2340 and num<=2500:\n",
    "        print('march')\n",
    "        break\n",
    "    elif num>2340 and num<=2500:\n",
    "        print('april')\n",
    "        break\n",
    "    else:\n",
    "        print(\"may\")\n",
    "        break"
   ]
  },
  {
   "cell_type": "code",
   "execution_count": null,
   "metadata": {},
   "outputs": [],
   "source": [
    "for"
   ]
  }
 ],
 "metadata": {
  "kernelspec": {
   "display_name": "Python 3",
   "language": "python",
   "name": "python3"
  },
  "language_info": {
   "codemirror_mode": {
    "name": "ipython",
    "version": 3
   },
   "file_extension": ".py",
   "mimetype": "text/x-python",
   "name": "python",
   "nbconvert_exporter": "python",
   "pygments_lexer": "ipython3",
   "version": "3.7.3"
  }
 },
 "nbformat": 4,
 "nbformat_minor": 2
}
